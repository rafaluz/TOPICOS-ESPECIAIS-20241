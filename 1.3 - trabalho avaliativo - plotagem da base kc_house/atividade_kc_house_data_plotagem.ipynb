{
 "cells": [
  {
   "cell_type": "markdown",
   "id": "6683964e-fb2e-4285-86f4-5d9bf37c5283",
   "metadata": {},
   "source": [
    "# Atividade de Visualização de dados\n",
    "### PROF. ME. RAFAEL LUZ ARAÚJO\n",
    "\n",
    "- Apresente os dados de forma visual;\n",
    "- Use plotagens que mostra informações importantes dos dados;\n",
    "    - Ex: mapa, scatter plot, correlação dos dados, etc."
   ]
  },
  {
   "cell_type": "code",
   "execution_count": null,
   "id": "13836b02-9be7-447c-bebd-78efce8c86d3",
   "metadata": {},
   "outputs": [],
   "source": [
    "import pandas as pd\n",
    "import matplotlib.pyplot as plt"
   ]
  },
  {
   "cell_type": "code",
   "execution_count": null,
   "id": "86ee7b5d-5709-428b-b15c-fa6ed639a623",
   "metadata": {},
   "outputs": [],
   "source": [
    "arquivo = 'kc_house_data.csv'\n",
    "dataset = pd.read_csv(arquivo, sep=',' ,header=0)"
   ]
  },
  {
   "cell_type": "code",
   "execution_count": null,
   "id": "fdf02e2a-3ab5-493b-aa38-6127e7e7add4",
   "metadata": {},
   "outputs": [],
   "source": [
    "dataset.info()"
   ]
  },
  {
   "cell_type": "code",
   "execution_count": null,
   "id": "841e843c-6e4b-48fe-bfca-60d82b6a80a7",
   "metadata": {},
   "outputs": [],
   "source": [
    "dataset['price'].describe()"
   ]
  },
  {
   "cell_type": "markdown",
   "id": "de0b614a-3602-4dd6-ba6e-355197160621",
   "metadata": {},
   "source": [
    "## EXEMPLO: MAPA DE CIRCULOS INFORMANDO AS CASAS COM PREÇOS DESEJAVEIS, ACEITAVEIS OU FORA DO ORÇAMENTO"
   ]
  },
  {
   "cell_type": "code",
   "execution_count": null,
   "id": "7713f777-8f6f-4755-8f7a-bce9d7067533",
   "metadata": {},
   "outputs": [],
   "source": [
    "# INFORME O VALOR MAXIMO DESEJAVEL E ACEITAVEL\n",
    "max_desired_price = int(input(\"Informe o valor máximo desejavel\"))\n",
    "max_acceptable_price = int(input(\"Informe o valor máximo aceitavel\"))"
   ]
  },
  {
   "cell_type": "code",
   "execution_count": null,
   "id": "29cf721f-2542-4fac-90d8-e26a34e7932d",
   "metadata": {},
   "outputs": [],
   "source": [
    "# pip install folium\n",
    "import folium\n",
    "\n",
    "def create_map(dataset, max_desired_price, max_acceptable_price):\n",
    "    map = folium.Map(location=[dataset['lat'].mean(), dataset['long'].mean()], zoom_start=10)\n",
    "    \n",
    "    for index, row in dataset.iterrows():\n",
    "        \n",
    "        if row['price'] < max_desired_price:\n",
    "            color = 'green'\n",
    "        elif row['price'] < max_acceptable_price:\n",
    "            color = 'orange'\n",
    "        else:\n",
    "            color = 'red'\n",
    "        \n",
    "        folium.CircleMarker(\n",
    "            location=[row['lat'], row['long']],\n",
    "            radius=5,\n",
    "            color=color,\n",
    "            fill=True,\n",
    "            fill_color=color,\n",
    "            fill_opacity=0.7,\n",
    "            popup=f\"Preço: ${row['price']}\"\n",
    "        ).add_to(map)\n",
    "    return map"
   ]
  },
  {
   "cell_type": "code",
   "execution_count": null,
   "id": "d24e41f9-543e-4097-a8db-8879d0a82616",
   "metadata": {},
   "outputs": [],
   "source": [
    "mapa = create_map(dataset, max_desired_price, max_acceptable_price)"
   ]
  },
  {
   "cell_type": "code",
   "execution_count": null,
   "id": "e8b47bfc-eb72-4dd8-a3bd-310e8deabc8e",
   "metadata": {},
   "outputs": [],
   "source": [
    "mapa"
   ]
  }
 ],
 "metadata": {
  "kernelspec": {
   "display_name": "Python 3 (ipykernel)",
   "language": "python",
   "name": "python3"
  },
  "language_info": {
   "codemirror_mode": {
    "name": "ipython",
    "version": 3
   },
   "file_extension": ".py",
   "mimetype": "text/x-python",
   "name": "python",
   "nbconvert_exporter": "python",
   "pygments_lexer": "ipython3",
   "version": "3.7.1"
  }
 },
 "nbformat": 4,
 "nbformat_minor": 5
}
